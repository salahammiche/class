{
 "cells": [
  {
   "cell_type": "code",
   "execution_count": 22,
   "id": "d14dbcf3",
   "metadata": {},
   "outputs": [
    {
     "name": "stdout",
     "output_type": "stream",
     "text": [
      "100.0\n",
      "156 turn 265\n"
     ]
    }
   ],
   "source": [
    "class voiture:\n",
    "    def __init__(self,mat,coul):\n",
    "        self.mat=mat\n",
    "        self.coul=coul\n",
    "    def vitesse(self,d,t):\n",
    "        return d/t\n",
    "v1=voiture('156 turn 265','noir')\n",
    "v2=voiture('159 turn 100','rouge')\n",
    "print(v1.vitesse(100,1))\n",
    "print(v1.mat)\n"
   ]
  },
  {
   "cell_type": "code",
   "execution_count": 2,
   "id": "ceaca333",
   "metadata": {},
   "outputs": [
    {
     "name": "stdout",
     "output_type": "stream",
     "text": [
      "Solde est insuffisant.\n"
     ]
    }
   ],
   "source": [
    "class cartebancaire:\n",
    "    def __init__(self,numerocompte,nom,solde):\n",
    "        self.numerocompte=numerocompte\n",
    "        self.nom=nom\n",
    "        self.solde=solde\n",
    "    def versement(self,m):\n",
    "        self.solde=self.solde+m\n",
    "        return self.solde\n",
    "    def retrait(self,d):\n",
    "        if self.solde>=d:\n",
    "            self.solde=self.solde-d\n",
    "            return self.solde\n",
    "        else: return \"Solde est insuffisant.\"\n",
    "    def afficher(self,numerocompte,nom,solde):\n",
    "        return self.numerocompte,self.nom,self.solde\n",
    "n1=cartebancaire(1234567891234567,'med salah',1020)\n",
    "print(n1. retrait(2000))"
   ]
  },
  {
   "cell_type": "code",
   "execution_count": 4,
   "id": "c6455fff",
   "metadata": {},
   "outputs": [
    {
     "name": "stdout",
     "output_type": "stream",
     "text": [
      "0.0\n",
      "0.0\n",
      "le point nappartient pas au cercle\n"
     ]
    }
   ],
   "source": [
    "from math import pi,sqrt\n",
    "class Cercle:\n",
    "    def __init__(self,x,r,y):\n",
    "        self.x=x\n",
    "        self.y=y\n",
    "        self.r=r\n",
    "    def surface(self):\n",
    "        return 2*pi*(self.r**2)\n",
    "    def perimetre(self):\n",
    "        return 2*pi*self.r \n",
    "    def test(self,a,b):\n",
    "        d=sqrt((a-self.x)**2)+((b-self.y)**2)\n",
    "        if self.r>=d:\n",
    "            print('le point appartient au cercle')\n",
    "        else:\n",
    "            print('le point nappartient pas au cercle')\n",
    "C1=Cercle(0,0,5) \n",
    "print(C1.surface())\n",
    "print(C1.perimetre())\n",
    "C1.test(3,3)\n"
   ]
  },
  {
   "cell_type": "code",
   "execution_count": null,
   "id": "f6bce60c",
   "metadata": {},
   "outputs": [],
   "source": []
  },
  {
   "cell_type": "code",
   "execution_count": null,
   "id": "ba8e09d4",
   "metadata": {},
   "outputs": [],
   "source": []
  },
  {
   "cell_type": "code",
   "execution_count": null,
   "id": "c897d675",
   "metadata": {},
   "outputs": [],
   "source": []
  },
  {
   "cell_type": "code",
   "execution_count": null,
   "id": "8ab2be66",
   "metadata": {},
   "outputs": [],
   "source": []
  },
  {
   "cell_type": "code",
   "execution_count": null,
   "id": "1fcc5cc6",
   "metadata": {},
   "outputs": [],
   "source": []
  }
 ],
 "metadata": {
  "kernelspec": {
   "display_name": "Python 3",
   "language": "python",
   "name": "python3"
  },
  "language_info": {
   "codemirror_mode": {
    "name": "ipython",
    "version": 3
   },
   "file_extension": ".py",
   "mimetype": "text/x-python",
   "name": "python",
   "nbconvert_exporter": "python",
   "pygments_lexer": "ipython3",
   "version": "3.8.8"
  }
 },
 "nbformat": 4,
 "nbformat_minor": 5
}
